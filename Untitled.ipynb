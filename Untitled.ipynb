{
 "cells": [
  {
   "cell_type": "code",
   "execution_count": null,
   "id": "a35a1f3f",
   "metadata": {},
   "outputs": [],
   "source": [
    "import pandas as pd\n"
   ]
  },
  {
   "cell_type": "code",
   "execution_count": null,
   "id": "569385a5",
   "metadata": {},
   "outputs": [],
   "source": [
    "movies = pd.read_csv('tmdb_5000_movies.csv')\n",
    "credits = pd.read_csv('tmdb_5000_credits.csv')"
   ]
  },
  {
   "cell_type": "code",
   "execution_count": null,
   "id": "023a519b",
   "metadata": {},
   "outputs": [],
   "source": [
    "movies.shape"
   ]
  },
  {
   "cell_type": "code",
   "execution_count": null,
   "id": "d96e6015",
   "metadata": {},
   "outputs": [],
   "source": [
    "credits.shape"
   ]
  },
  {
   "cell_type": "code",
   "execution_count": null,
   "id": "4e52a58a",
   "metadata": {},
   "outputs": [],
   "source": [
    "credits.head()"
   ]
  },
  {
   "cell_type": "code",
   "execution_count": null,
   "id": "792d12e6",
   "metadata": {},
   "outputs": [],
   "source": [
    "movies.columns"
   ]
  },
  {
   "cell_type": "code",
   "execution_count": null,
   "id": "c629e79e",
   "metadata": {},
   "outputs": [],
   "source": [
    "movies.merge(credits, on='title').shape"
   ]
  },
  {
   "cell_type": "code",
   "execution_count": null,
   "id": "159d6d45",
   "metadata": {},
   "outputs": [],
   "source": [
    "movies_new = movies.merge(credits, on='title')"
   ]
  },
  {
   "cell_type": "code",
   "execution_count": null,
   "id": "7e7a6c77",
   "metadata": {},
   "outputs": [],
   "source": [
    "movies_new.head(2)"
   ]
  },
  {
   "cell_type": "code",
   "execution_count": null,
   "id": "d522225d",
   "metadata": {},
   "outputs": [],
   "source": [
    "#genres, id, keywords"
   ]
  },
  {
   "cell_type": "code",
   "execution_count": null,
   "id": "d25eb889",
   "metadata": {},
   "outputs": [],
   "source": [
    "movies_new['original_language'].value_counts()"
   ]
  },
  {
   "cell_type": "code",
   "execution_count": null,
   "id": "18851741",
   "metadata": {
    "scrolled": false
   },
   "outputs": [],
   "source": [
    "movies_new[movies_new['original_language']== 'hi']"
   ]
  },
  {
   "cell_type": "code",
   "execution_count": null,
   "id": "38576342",
   "metadata": {},
   "outputs": [],
   "source": [
    "#genres, id, keywords, titles, overview,release_date, cast,crew "
   ]
  },
  {
   "cell_type": "code",
   "execution_count": null,
   "id": "079c1a72",
   "metadata": {},
   "outputs": [],
   "source": [
    "movies_new.info()"
   ]
  },
  {
   "cell_type": "code",
   "execution_count": null,
   "id": "217bb53f",
   "metadata": {},
   "outputs": [],
   "source": [
    "movies_new = movies_new[['genres','id','keywords','title', 'overview','release_date','movie_id' ,'cast','crew']]"
   ]
  },
  {
   "cell_type": "code",
   "execution_count": null,
   "id": "0c008879",
   "metadata": {},
   "outputs": [],
   "source": [
    "movies_new.info()"
   ]
  },
  {
   "cell_type": "code",
   "execution_count": null,
   "id": "abeff47e",
   "metadata": {},
   "outputs": [],
   "source": [
    "movies_new.head()"
   ]
  },
  {
   "cell_type": "code",
   "execution_count": null,
   "id": "16f810e1",
   "metadata": {},
   "outputs": [],
   "source": [
    "(movies_new[movies_new.isnull().any(axis=1)])\n"
   ]
  },
  {
   "cell_type": "code",
   "execution_count": null,
   "id": "bdee9ad5",
   "metadata": {},
   "outputs": [],
   "source": [
    "movies_new.isnull().sum()"
   ]
  },
  {
   "cell_type": "code",
   "execution_count": null,
   "id": "574f013d",
   "metadata": {},
   "outputs": [],
   "source": [
    "movies_new.dropna(inplace=True)"
   ]
  },
  {
   "cell_type": "code",
   "execution_count": null,
   "id": "e4c0f82f",
   "metadata": {},
   "outputs": [],
   "source": [
    "movies_new.duplicated().sum()"
   ]
  },
  {
   "cell_type": "code",
   "execution_count": null,
   "id": "77aedae9",
   "metadata": {},
   "outputs": [],
   "source": [
    "movies_new.iloc[0].genres"
   ]
  },
  {
   "cell_type": "code",
   "execution_count": null,
   "id": "8e264928",
   "metadata": {},
   "outputs": [],
   "source": [
    "convert('[{\"id\": 28, \"name\": \"Action\"}, {\"id\": 12, \"name\": \"Adventure\"}, {\"id\": 14, \"name\": \"Fantasy\"}, {\"id\": 878, \"name\": \"Science Fiction\"}]')"
   ]
  },
  {
   "cell_type": "code",
   "execution_count": null,
   "id": "23f23ac5",
   "metadata": {},
   "outputs": [],
   "source": [
    "import ast\n",
    "ast.literal_eval('[{\"id\": 28, \"name\": \"Action\"}, {\"id\": 12, \"name\": \"Adventure\"}, {\"id\": 14, \"name\": \"Fantasy\"}, {\"id\": 878, \"name\": \"Science Fiction\"}]')\n"
   ]
  },
  {
   "cell_type": "code",
   "execution_count": null,
   "id": "9240aa3b",
   "metadata": {},
   "outputs": [],
   "source": [
    "def convert(obj):\n",
    "    L = []\n",
    "    for i in ast.literal_eval(obj):\n",
    "        L.append(i['name'])\n",
    "    return L"
   ]
  },
  {
   "cell_type": "code",
   "execution_count": null,
   "id": "21848586",
   "metadata": {},
   "outputs": [],
   "source": [
    "movies_new['genres'].apply(convert)"
   ]
  },
  {
   "cell_type": "code",
   "execution_count": null,
   "id": "6836018f",
   "metadata": {},
   "outputs": [],
   "source": [
    " movies_new['genres'].apply(convert)"
   ]
  },
  {
   "cell_type": "code",
   "execution_count": null,
   "id": "3acd7fd3",
   "metadata": {},
   "outputs": [],
   "source": [
    "movies_new.head()"
   ]
  },
  {
   "cell_type": "code",
   "execution_count": null,
   "id": "4caf7275",
   "metadata": {},
   "outputs": [],
   "source": [
    " movies_new['genres'] = movies_new['genres'].apply(convert)"
   ]
  },
  {
   "cell_type": "code",
   "execution_count": null,
   "id": "f213fdea",
   "metadata": {},
   "outputs": [],
   "source": [
    "movies_new.head()"
   ]
  },
  {
   "cell_type": "code",
   "execution_count": null,
   "id": "4edfac90",
   "metadata": {
    "scrolled": true
   },
   "outputs": [],
   "source": [
    "movies_new['keywords']"
   ]
  },
  {
   "cell_type": "code",
   "execution_count": null,
   "id": "cb8c6f21",
   "metadata": {},
   "outputs": [],
   "source": [
    "movies_new['keywords'].apply(convert)"
   ]
  },
  {
   "cell_type": "code",
   "execution_count": null,
   "id": "e23b10b9",
   "metadata": {},
   "outputs": [],
   "source": [
    " movies_new['keywords'] = movies_new['keywords'].apply(convert)"
   ]
  },
  {
   "cell_type": "code",
   "execution_count": null,
   "id": "300eb94e",
   "metadata": {},
   "outputs": [],
   "source": [
    "movies_new"
   ]
  },
  {
   "cell_type": "code",
   "execution_count": null,
   "id": "be560234",
   "metadata": {},
   "outputs": [],
   "source": [
    "movies_new['cast'].apply(convert)"
   ]
  },
  {
   "cell_type": "code",
   "execution_count": null,
   "id": "fbfd3208",
   "metadata": {},
   "outputs": [],
   "source": [
    "def convert3(obj):\n",
    "    L = []\n",
    "    counter = 0\n",
    "    for i in ast.literal_eval(obj):\n",
    "        if counter<=3:\n",
    "            L.append(i['name'])\n",
    "        counter += 1\n",
    "    return L\n",
    "            "
   ]
  },
  {
   "cell_type": "code",
   "execution_count": null,
   "id": "a0952483",
   "metadata": {},
   "outputs": [],
   "source": [
    "movies_new['cast'] = movies_new['cast'].apply(convert3)"
   ]
  },
  {
   "cell_type": "code",
   "execution_count": null,
   "id": "704d2010",
   "metadata": {},
   "outputs": [],
   "source": [
    "movies_new.head()"
   ]
  },
  {
   "cell_type": "code",
   "execution_count": null,
   "id": "dd135785",
   "metadata": {},
   "outputs": [],
   "source": [
    "movies_new['crew'][0]"
   ]
  },
  {
   "cell_type": "code",
   "execution_count": null,
   "id": "c6775137",
   "metadata": {},
   "outputs": [],
   "source": [
    "def fetch_director(obj):\n",
    "    L = []\n",
    "    for i in ast.literal_eval(obj):\n",
    "        \n",
    "        if i['job'] == 'Director':\n",
    "            \n",
    "            L.append(i['name'])\n",
    "    return L"
   ]
  },
  {
   "cell_type": "code",
   "execution_count": null,
   "id": "6079f3e4",
   "metadata": {},
   "outputs": [],
   "source": [
    "movies_new['crew'] = movies_new['crew'].apply(fetch_director)"
   ]
  },
  {
   "cell_type": "code",
   "execution_count": null,
   "id": "6b387370",
   "metadata": {},
   "outputs": [],
   "source": [
    "movies_new.head()"
   ]
  },
  {
   "cell_type": "code",
   "execution_count": null,
   "id": "492218e8",
   "metadata": {},
   "outputs": [],
   "source": [
    "movies_new['overview'][0]\n",
    "\n",
    "#AS we can see overview is a string so we convert it into a list"
   ]
  },
  {
   "cell_type": "code",
   "execution_count": null,
   "id": "1d626857",
   "metadata": {},
   "outputs": [],
   "source": [
    "movies_new['overview'].dtype"
   ]
  },
  {
   "cell_type": "code",
   "execution_count": null,
   "id": "013f86a4",
   "metadata": {},
   "outputs": [],
   "source": [
    "movies_new['overview'].isnull().sum()"
   ]
  },
  {
   "cell_type": "code",
   "execution_count": null,
   "id": "348380a0",
   "metadata": {},
   "outputs": [],
   "source": [
    "movies_new['overview'] = movies_new['overview'].fillna('')\n"
   ]
  },
  {
   "cell_type": "code",
   "execution_count": null,
   "id": "0f80719c",
   "metadata": {},
   "outputs": [],
   "source": [
    "movies_new['overview'].isnull().sum()"
   ]
  },
  {
   "cell_type": "code",
   "execution_count": null,
   "id": "d2f3decc",
   "metadata": {},
   "outputs": [],
   "source": [
    "movies_new['overview'].apply(lambda x:x.split())"
   ]
  },
  {
   "cell_type": "code",
   "execution_count": null,
   "id": "71c7fdf6",
   "metadata": {},
   "outputs": [],
   "source": [
    "movies_new['overview'] = movies_new['overview'].apply(lambda x:x.split())"
   ]
  },
  {
   "cell_type": "code",
   "execution_count": null,
   "id": "dab2055e",
   "metadata": {},
   "outputs": [],
   "source": [
    "movies_new.head()"
   ]
  },
  {
   "cell_type": "code",
   "execution_count": null,
   "id": "c5ca79af",
   "metadata": {},
   "outputs": [],
   "source": [
    "movies_new['genres'] = movies_new['genres'].apply(lambda x:[i.replace(\" \",\"\") for i in x] )\n",
    "movies_new['keywords'] = movies_new['keywords'].apply(lambda x:[i.replace(\" \",\"\") for i in x] )\n",
    "movies_new['cast'] = movies_new['cast'].apply(lambda x:[i.replace(\" \",\"\") for i in x] )\n",
    "movies_new['crew'] = movies_new['crew'].apply(lambda x:[i.replace(\" \",\"\") for i in x] )"
   ]
  },
  {
   "cell_type": "code",
   "execution_count": null,
   "id": "0cbbb431",
   "metadata": {},
   "outputs": [],
   "source": [
    "movies_new.head()"
   ]
  },
  {
   "cell_type": "code",
   "execution_count": null,
   "id": "47277189",
   "metadata": {},
   "outputs": [],
   "source": [
    "movies_new['tags'] = movies_new['overview']+movies_new['genres']+movies_new['keywords']+movies_new['cast']+movies_new['crew']"
   ]
  },
  {
   "cell_type": "code",
   "execution_count": null,
   "id": "8e874d7f",
   "metadata": {},
   "outputs": [],
   "source": [
    "movies_new.head()"
   ]
  },
  {
   "cell_type": "code",
   "execution_count": null,
   "id": "0735ab8c",
   "metadata": {},
   "outputs": [],
   "source": [
    "new_df = movies_new[['movie_id', 'title', 'tags']] #only important attributes"
   ]
  },
  {
   "cell_type": "code",
   "execution_count": null,
   "id": "9e05238b",
   "metadata": {
    "scrolled": true
   },
   "outputs": [],
   "source": [
    "new_df"
   ]
  },
  {
   "cell_type": "code",
   "execution_count": null,
   "id": "94ee5a3b",
   "metadata": {},
   "outputs": [],
   "source": [
    "#importing nltk\n",
    "!pip install nltk"
   ]
  },
  {
   "cell_type": "code",
   "execution_count": null,
   "id": "39db89a6",
   "metadata": {},
   "outputs": [],
   "source": [
    "import nltk"
   ]
  },
  {
   "cell_type": "code",
   "execution_count": null,
   "id": "415dfe6a",
   "metadata": {},
   "outputs": [],
   "source": [
    "from nltk.stem.porter import PorterStemmer\n",
    "ps = PorterStemmer()"
   ]
  },
  {
   "cell_type": "code",
   "execution_count": null,
   "id": "ebf6a218",
   "metadata": {},
   "outputs": [],
   "source": [
    "def stem(text):\n",
    "    y = []\n",
    "    \n",
    "    for i in text.split():\n",
    "        \n",
    "        y.append(ps.stem(i))\n",
    "    return \" \".join(y)"
   ]
  },
  {
   "cell_type": "code",
   "execution_count": null,
   "id": "3713a801",
   "metadata": {},
   "outputs": [],
   "source": [
    "ps.stem('')"
   ]
  },
  {
   "cell_type": "code",
   "execution_count": null,
   "id": "9ef3cfd3",
   "metadata": {},
   "outputs": [],
   "source": [
    "new_df['tags'] = new_df['tags'].apply(lambda x:\" \".join(x))\n",
    "#back to string"
   ]
  },
  {
   "cell_type": "code",
   "execution_count": null,
   "id": "c507235c",
   "metadata": {
    "scrolled": true
   },
   "outputs": [],
   "source": [
    "new_df['tags'][0]"
   ]
  },
  {
   "cell_type": "markdown",
   "id": "f206df45",
   "metadata": {},
   "source": [
    "# VECTORIZATION"
   ]
  },
  {
   "cell_type": "markdown",
   "id": "8aec7918",
   "metadata": {},
   "source": [
    "**for getting the closest vector to find he movies**"
   ]
  },
  {
   "cell_type": "code",
   "execution_count": null,
   "id": "2569d66f",
   "metadata": {},
   "outputs": [],
   "source": [
    "from sklearn.feature_extraction.text import CountVectorizer\n",
    "cv = CountVectorizer(max_features=5000, stop_words='english')\n"
   ]
  },
  {
   "cell_type": "code",
   "execution_count": null,
   "id": "219381b8",
   "metadata": {},
   "outputs": [],
   "source": [
    "cv.fit_transform(new_df['tags']).toarray().shape"
   ]
  },
  {
   "cell_type": "code",
   "execution_count": null,
   "id": "fff64438",
   "metadata": {},
   "outputs": [],
   "source": [
    "vectors = cv.fit_transform(new_df['tags']).toarray()"
   ]
  },
  {
   "cell_type": "code",
   "execution_count": null,
   "id": "6c1f7122",
   "metadata": {},
   "outputs": [],
   "source": [
    "vectors"
   ]
  },
  {
   "cell_type": "code",
   "execution_count": null,
   "id": "f90f27f4",
   "metadata": {},
   "outputs": [],
   "source": [
    "vectors[0]"
   ]
  },
  {
   "cell_type": "code",
   "execution_count": null,
   "id": "19b543b7",
   "metadata": {},
   "outputs": [],
   "source": [
    "cv.get_feature_names_out"
   ]
  },
  {
   "cell_type": "code",
   "execution_count": null,
   "id": "934004d7",
   "metadata": {},
   "outputs": [],
   "source": [
    "new_df['tags'] = new_df['tags'].apply(stem)"
   ]
  },
  {
   "cell_type": "code",
   "execution_count": null,
   "id": "da33c7c6",
   "metadata": {},
   "outputs": [],
   "source": [
    "new_df['tags'][0]"
   ]
  },
  {
   "cell_type": "code",
   "execution_count": null,
   "id": "eb065c28",
   "metadata": {},
   "outputs": [],
   "source": [
    "cv.get_feature_names_out()"
   ]
  },
  {
   "cell_type": "markdown",
   "id": "1879b98d",
   "metadata": {},
   "source": [
    "### Calculating cosine distances so that to find similarities"
   ]
  },
  {
   "cell_type": "code",
   "execution_count": null,
   "id": "bebed3a1",
   "metadata": {},
   "outputs": [],
   "source": [
    "from sklearn.metrics.pairwise import cosine_similarity"
   ]
  },
  {
   "cell_type": "code",
   "execution_count": null,
   "id": "513d58fa",
   "metadata": {},
   "outputs": [],
   "source": [
    "similarity = cosine_similarity(vectors)"
   ]
  },
  {
   "cell_type": "code",
   "execution_count": null,
   "id": "01faa038",
   "metadata": {},
   "outputs": [],
   "source": [
    "similarity #all diagonals will be one \n"
   ]
  },
  {
   "cell_type": "code",
   "execution_count": null,
   "id": "ee915170",
   "metadata": {},
   "outputs": [],
   "source": [
    "sorted(list(enumerate(similarity[0])),reverse = True,key=lambda x:x[1])[1:6]"
   ]
  },
  {
   "cell_type": "code",
   "execution_count": null,
   "id": "3b64a65d",
   "metadata": {},
   "outputs": [],
   "source": [
    "def recommend(movie):\n",
    "    movie_index = new_df[new_df['title'] == movie].index[0]\n",
    "    distances = similarity[movie_index]\n",
    "    movies_list = sorted(list(enumerate(distances)),reverse = True,key=lambda x:x[1])[1:6]\n",
    "    \n",
    "    for i in movies_list:\n",
    "        print(new_df.iloc[i[0]].title)\n",
    "        "
   ]
  },
  {
   "cell_type": "code",
   "execution_count": null,
   "id": "d367f1d5",
   "metadata": {},
   "outputs": [],
   "source": [
    "new_df.iloc[2409].title"
   ]
  },
  {
   "cell_type": "code",
   "execution_count": null,
   "id": "467c2fbc",
   "metadata": {},
   "outputs": [],
   "source": [
    "recommend('The Golden Compass')"
   ]
  },
  {
   "cell_type": "code",
   "execution_count": null,
   "id": "d4926c10",
   "metadata": {},
   "outputs": [],
   "source": [
    "import pickle"
   ]
  },
  {
   "cell_type": "code",
   "execution_count": null,
   "id": "07447847",
   "metadata": {},
   "outputs": [],
   "source": [
    "pickle.dump(new_df.to_dict(), open('movie_dict.pkl','wb'))"
   ]
  },
  {
   "cell_type": "code",
   "execution_count": null,
   "id": "61fc5bb2",
   "metadata": {},
   "outputs": [],
   "source": [
    "new_df.to_dict()"
   ]
  },
  {
   "cell_type": "code",
   "execution_count": null,
   "id": "6b18ce08",
   "metadata": {},
   "outputs": [],
   "source": [
    "pickle.dump(similarity, open('similarity.pkl', 'wb'))"
   ]
  }
 ],
 "metadata": {
  "kernelspec": {
   "display_name": "Python 3 (ipykernel)",
   "language": "python",
   "name": "python3"
  },
  "language_info": {
   "codemirror_mode": {
    "name": "ipython",
    "version": 3
   },
   "file_extension": ".py",
   "mimetype": "text/x-python",
   "name": "python",
   "nbconvert_exporter": "python",
   "pygments_lexer": "ipython3",
   "version": "3.11.5"
  }
 },
 "nbformat": 4,
 "nbformat_minor": 5
}
